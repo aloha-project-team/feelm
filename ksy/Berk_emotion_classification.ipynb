{
 "cells": [
  {
   "cell_type": "code",
   "execution_count": 2,
   "metadata": {
    "colab": {},
    "colab_type": "code",
    "executionInfo": {
     "elapsed": 993,
     "status": "ok",
     "timestamp": 1600084160172,
     "user": {
      "displayName": "김신영",
      "photoUrl": "",
      "userId": "11478318935090756381"
     },
     "user_tz": -540
    },
    "id": "ODHojb63TQYH"
   },
   "outputs": [],
   "source": [
    "#신영"
   ]
  },
  {
   "cell_type": "code",
   "execution_count": 3,
   "metadata": {
    "colab": {
     "base_uri": "https://localhost:8080/",
     "height": 351
    },
    "colab_type": "code",
    "executionInfo": {
     "elapsed": 3737,
     "status": "ok",
     "timestamp": 1600084162936,
     "user": {
      "displayName": "김신영",
      "photoUrl": "",
      "userId": "11478318935090756381"
     },
     "user_tz": -540
    },
    "id": "wdsZ8nnlQcxY",
    "outputId": "9e44231d-388c-4a13-a77c-6343e00dfe66"
   },
   "outputs": [
    {
     "name": "stdout",
     "output_type": "stream",
     "text": [
      "Collecting transformers\n",
      "  Downloading transformers-3.1.0-py3-none-any.whl (884 kB)\n",
      "Requirement already satisfied: tqdm>=4.27 in c:\\users\\26162\\anaconda3\\lib\\site-packages (from transformers) (4.42.1)\n",
      "Collecting sentencepiece!=0.1.92\n",
      "  Downloading sentencepiece-0.1.91-cp37-cp37m-win_amd64.whl (1.2 MB)\n",
      "Collecting tokenizers==0.8.1.rc2\n",
      "  Downloading tokenizers-0.8.1rc2-cp37-cp37m-win_amd64.whl (1.9 MB)\n",
      "Collecting sacremoses\n",
      "  Downloading sacremoses-0.0.43.tar.gz (883 kB)\n",
      "Requirement already satisfied: numpy in c:\\users\\26162\\anaconda3\\lib\\site-packages (from transformers) (1.18.1)\n",
      "Requirement already satisfied: packaging in c:\\users\\26162\\anaconda3\\lib\\site-packages (from transformers) (20.1)\n",
      "Requirement already satisfied: filelock in c:\\users\\26162\\anaconda3\\lib\\site-packages (from transformers) (3.0.12)\n",
      "Collecting regex!=2019.12.17\n",
      "  Downloading regex-2020.7.14-cp37-cp37m-win_amd64.whl (268 kB)\n",
      "Requirement already satisfied: requests in c:\\users\\26162\\anaconda3\\lib\\site-packages (from transformers) (2.22.0)\n",
      "Requirement already satisfied: six in c:\\users\\26162\\anaconda3\\lib\\site-packages (from sacremoses->transformers) (1.14.0)\n",
      "Requirement already satisfied: click in c:\\users\\26162\\anaconda3\\lib\\site-packages (from sacremoses->transformers) (7.0)\n",
      "Requirement already satisfied: joblib in c:\\users\\26162\\anaconda3\\lib\\site-packages (from sacremoses->transformers) (0.14.1)\n",
      "Requirement already satisfied: pyparsing>=2.0.2 in c:\\users\\26162\\anaconda3\\lib\\site-packages (from packaging->transformers) (2.4.6)\n",
      "Requirement already satisfied: urllib3!=1.25.0,!=1.25.1,<1.26,>=1.21.1 in c:\\users\\26162\\anaconda3\\lib\\site-packages (from requests->transformers) (1.25.8)\n",
      "Requirement already satisfied: certifi>=2017.4.17 in c:\\users\\26162\\anaconda3\\lib\\site-packages (from requests->transformers) (2019.11.28)\n",
      "Requirement already satisfied: idna<2.9,>=2.5 in c:\\users\\26162\\anaconda3\\lib\\site-packages (from requests->transformers) (2.8)\n",
      "Requirement already satisfied: chardet<3.1.0,>=3.0.2 in c:\\users\\26162\\anaconda3\\lib\\site-packages (from requests->transformers) (3.0.4)\n",
      "Building wheels for collected packages: sacremoses\n",
      "  Building wheel for sacremoses (setup.py): started\n",
      "  Building wheel for sacremoses (setup.py): finished with status 'done'\n",
      "  Created wheel for sacremoses: filename=sacremoses-0.0.43-py3-none-any.whl size=893262 sha256=1e3e705137c23e100e6c1caceff26e79537b8fde0816b50b0352c1923674a67a\n",
      "  Stored in directory: c:\\users\\26162\\appdata\\local\\pip\\cache\\wheels\\69\\09\\d1\\bf058f7d6fa0ecba2ce7c66be3b8d012beb4bf61a6e0c101c0\n",
      "Successfully built sacremoses\n",
      "Installing collected packages: sentencepiece, tokenizers, regex, sacremoses, transformers\n",
      "Successfully installed regex-2020.7.14 sacremoses-0.0.43 sentencepiece-0.1.91 tokenizers-0.8.1rc2 transformers-3.1.0\n"
     ]
    },
    {
     "name": "stderr",
     "output_type": "stream",
     "text": [
      "WARNING: You are using pip version 20.1.1; however, version 20.2.3 is available.\n",
      "You should consider upgrading via the 'c:\\users\\26162\\anaconda3\\python.exe -m pip install --upgrade pip' command.\n"
     ]
    }
   ],
   "source": [
    "# Hugging Face의 트랜스포머 모델을 설치\n",
    "!pip install transformers"
   ]
  },
  {
   "cell_type": "code",
   "execution_count": 4,
   "metadata": {
    "colab": {},
    "colab_type": "code",
    "executionInfo": {
     "elapsed": 5721,
     "status": "ok",
     "timestamp": 1600084164934,
     "user": {
      "displayName": "김신영",
      "photoUrl": "",
      "userId": "11478318935090756381"
     },
     "user_tz": -540
    },
    "id": "fqg7ZhReQsMi"
   },
   "outputs": [
    {
     "ename": "ModuleNotFoundError",
     "evalue": "No module named 'tensorflow'",
     "output_type": "error",
     "traceback": [
      "\u001b[1;31m---------------------------------------------------------------------------\u001b[0m",
      "\u001b[1;31mModuleNotFoundError\u001b[0m                       Traceback (most recent call last)",
      "\u001b[1;32m<ipython-input-4-5ea06029ec6b>\u001b[0m in \u001b[0;36m<module>\u001b[1;34m\u001b[0m\n\u001b[1;32m----> 1\u001b[1;33m \u001b[1;32mimport\u001b[0m \u001b[0mtensorflow\u001b[0m \u001b[1;32mas\u001b[0m \u001b[0mtf\u001b[0m\u001b[1;33m\u001b[0m\u001b[1;33m\u001b[0m\u001b[0m\n\u001b[0m\u001b[0;32m      2\u001b[0m \u001b[1;32mimport\u001b[0m \u001b[0mtorch\u001b[0m\u001b[1;33m\u001b[0m\u001b[1;33m\u001b[0m\u001b[0m\n\u001b[0;32m      3\u001b[0m \u001b[1;33m\u001b[0m\u001b[0m\n\u001b[0;32m      4\u001b[0m \u001b[1;32mfrom\u001b[0m \u001b[0mtransformers\u001b[0m \u001b[1;32mimport\u001b[0m \u001b[0mBertTokenizer\u001b[0m\u001b[1;33m\u001b[0m\u001b[1;33m\u001b[0m\u001b[0m\n\u001b[0;32m      5\u001b[0m \u001b[1;32mfrom\u001b[0m \u001b[0mtransformers\u001b[0m \u001b[1;32mimport\u001b[0m \u001b[0mBertForSequenceClassification\u001b[0m\u001b[1;33m,\u001b[0m \u001b[0mAdamW\u001b[0m\u001b[1;33m,\u001b[0m \u001b[0mBertConfig\u001b[0m\u001b[1;33m\u001b[0m\u001b[1;33m\u001b[0m\u001b[0m\n",
      "\u001b[1;31mModuleNotFoundError\u001b[0m: No module named 'tensorflow'"
     ]
    }
   ],
   "source": [
    "import tensorflow as tf\n",
    "import torch\n",
    "\n",
    "from transformers import BertTokenizer\n",
    "from transformers import BertForSequenceClassification, AdamW, BertConfig\n",
    "from transformers import get_linear_schedule_with_warmup\n",
    "from torch.utils.data import TensorDataset, DataLoader, RandomSampler, SequentialSampler\n",
    "from keras.preprocessing.sequence import pad_sequences\n",
    "from sklearn.model_selection import train_test_split\n",
    "\n",
    "import pandas as pd\n",
    "import numpy as np\n",
    "import random\n",
    "import time\n",
    "import datetime"
   ]
  },
  {
   "cell_type": "code",
   "execution_count": null,
   "metadata": {
    "colab": {},
    "colab_type": "code",
    "executionInfo": {
     "elapsed": 5712,
     "status": "ok",
     "timestamp": 1600084164938,
     "user": {
      "displayName": "김신영",
      "photoUrl": "",
      "userId": "11478318935090756381"
     },
     "user_tz": -540
    },
    "id": "eE2GezXTQ52x"
   },
   "outputs": [],
   "source": [
    "df=pd.read_csv(\"test_data1.tsv\", sep=\"\\t\", header=None, encoding=\"UTF-8\", names=['label','document',])"
   ]
  },
  {
   "cell_type": "code",
   "execution_count": null,
   "metadata": {
    "colab": {},
    "colab_type": "code",
    "executionInfo": {
     "elapsed": 5704,
     "status": "ok",
     "timestamp": 1600084164939,
     "user": {
      "displayName": "김신영",
      "photoUrl": "",
      "userId": "11478318935090756381"
     },
     "user_tz": -540
    },
    "id": "QqW2g687k0nA"
   },
   "outputs": [],
   "source": [
    "#중복 제거\n",
    "possible_labels = df.label.unique()\n",
    "\n",
    "label_dict = {}\n",
    "for index, possible_label in enumerate(possible_labels):\n",
    "    label_dict[possible_label] = index\n",
    "\n",
    "df['label'] = df.label.replace(label_dict)"
   ]
  },
  {
   "cell_type": "code",
   "execution_count": null,
   "metadata": {
    "colab": {
     "base_uri": "https://localhost:8080/",
     "height": 52
    },
    "colab_type": "code",
    "executionInfo": {
     "elapsed": 5695,
     "status": "ok",
     "timestamp": 1600084164940,
     "user": {
      "displayName": "김신영",
      "photoUrl": "",
      "userId": "11478318935090756381"
     },
     "user_tz": -540
    },
    "id": "XJVSJyWYQ9-P",
    "outputId": "052f21c3-66b7-453e-84dd-e78b6d15e2e3"
   },
   "outputs": [],
   "source": [
    "# 판다스로 훈련셋과 테스트셋 데이터 로드\n",
    "train = df[:1100]\n",
    "test = df[1100:]\n",
    "\n",
    "print(train.shape)\n",
    "print(test.shape)"
   ]
  },
  {
   "cell_type": "code",
   "execution_count": null,
   "metadata": {
    "colab": {
     "base_uri": "https://localhost:8080/",
     "height": 343
    },
    "colab_type": "code",
    "executionInfo": {
     "elapsed": 5671,
     "status": "ok",
     "timestamp": 1600084164941,
     "user": {
      "displayName": "김신영",
      "photoUrl": "",
      "userId": "11478318935090756381"
     },
     "user_tz": -540
    },
    "id": "q3iIgZs7Q-fh",
    "outputId": "e7cca4be-bf0c-450e-b73b-b01b65367139"
   },
   "outputs": [],
   "source": [
    "# 훈련셋의 앞부분 출력\n",
    "train.head(10)"
   ]
  },
  {
   "cell_type": "code",
   "execution_count": null,
   "metadata": {
    "colab": {
     "base_uri": "https://localhost:8080/",
     "height": 210
    },
    "colab_type": "code",
    "executionInfo": {
     "elapsed": 5659,
     "status": "ok",
     "timestamp": 1600084164941,
     "user": {
      "displayName": "김신영",
      "photoUrl": "",
      "userId": "11478318935090756381"
     },
     "user_tz": -540
    },
    "id": "w50MJCYtRAGr",
    "outputId": "719639a8-a535-4f63-bd47-9236af4be76d"
   },
   "outputs": [],
   "source": [
    "# 리뷰 문장 추출\n",
    "sentences = train['document']\n",
    "sentences[:10]"
   ]
  },
  {
   "cell_type": "code",
   "execution_count": null,
   "metadata": {
    "colab": {
     "base_uri": "https://localhost:8080/",
     "height": 193
    },
    "colab_type": "code",
    "executionInfo": {
     "elapsed": 5650,
     "status": "ok",
     "timestamp": 1600084164942,
     "user": {
      "displayName": "김신영",
      "photoUrl": "",
      "userId": "11478318935090756381"
     },
     "user_tz": -540
    },
    "id": "18VFGSyMRDWN",
    "outputId": "ae10bbf5-720c-4069-a0a0-3376d1c7c260"
   },
   "outputs": [],
   "source": [
    "# BERT의 입력 형식에 맞게 변환\n",
    "sentences = [\"[CLS] \" + str(sentence) + \" [SEP]\" for sentence in sentences]\n",
    "sentences[:10]"
   ]
  },
  {
   "cell_type": "code",
   "execution_count": null,
   "metadata": {
    "colab": {
     "base_uri": "https://localhost:8080/",
     "height": 175
    },
    "colab_type": "code",
    "executionInfo": {
     "elapsed": 5641,
     "status": "ok",
     "timestamp": 1600084164944,
     "user": {
      "displayName": "김신영",
      "photoUrl": "",
      "userId": "11478318935090756381"
     },
     "user_tz": -540
    },
    "id": "QR-aMz19eiWH",
    "outputId": "be5793d6-d37a-43c6-d326-0af8a4f0ca31"
   },
   "outputs": [],
   "source": [
    "train['label'].value_counts()"
   ]
  },
  {
   "cell_type": "code",
   "execution_count": null,
   "metadata": {
    "colab": {
     "base_uri": "https://localhost:8080/",
     "height": 34
    },
    "colab_type": "code",
    "executionInfo": {
     "elapsed": 5632,
     "status": "ok",
     "timestamp": 1600084164945,
     "user": {
      "displayName": "김신영",
      "photoUrl": "",
      "userId": "11478318935090756381"
     },
     "user_tz": -540
    },
    "id": "0cIDJgLJRFEG",
    "outputId": "8a8ccbf0-bfd3-4064-abc9-c6fa965969a2"
   },
   "outputs": [],
   "source": [
    "# 라벨 추출\n",
    "labels = train['label'].values\n",
    "labels"
   ]
  },
  {
   "cell_type": "code",
   "execution_count": null,
   "metadata": {
    "colab": {
     "base_uri": "https://localhost:8080/",
     "height": 52
    },
    "colab_type": "code",
    "executionInfo": {
     "elapsed": 6291,
     "status": "ok",
     "timestamp": 1600084165613,
     "user": {
      "displayName": "김신영",
      "photoUrl": "",
      "userId": "11478318935090756381"
     },
     "user_tz": -540
    },
    "id": "XYn9tP8uRGJE",
    "outputId": "f4779a91-fd04-4e55-c5e1-5cb5c7dbec07"
   },
   "outputs": [],
   "source": [
    "# BERT의 토크나이저로 문장을 토큰으로 분리\n",
    "tokenizer = BertTokenizer.from_pretrained('bert-base-multilingual-cased', do_lower_case=False)\n",
    "tokenized_texts = [tokenizer.tokenize(sent) for sent in sentences]\n",
    "\n",
    "print (sentences[0])\n",
    "print (tokenized_texts[0])"
   ]
  },
  {
   "cell_type": "code",
   "execution_count": null,
   "metadata": {
    "colab": {
     "base_uri": "https://localhost:8080/",
     "height": 580
    },
    "colab_type": "code",
    "executionInfo": {
     "elapsed": 6282,
     "status": "ok",
     "timestamp": 1600084165614,
     "user": {
      "displayName": "김신영",
      "photoUrl": "",
      "userId": "11478318935090756381"
     },
     "user_tz": -540
    },
    "id": "-md9r8FiRH4T",
    "outputId": "b4c90f9a-de5f-4b27-df7f-807e6261054a"
   },
   "outputs": [],
   "source": [
    "# 입력 토큰의 최대 시퀀스 길이\n",
    "MAX_LEN = 256\n",
    "\n",
    "# 토큰을 숫자 인덱스로 변환\n",
    "input_ids = [tokenizer.convert_tokens_to_ids(x) for x in tokenized_texts]\n",
    "\n",
    "# 문장을 MAX_LEN 길이에 맞게 자르고, 모자란 부분을 패딩 0으로 채움\n",
    "input_ids = pad_sequences(input_ids, maxlen=MAX_LEN, dtype=\"long\", truncating=\"post\", padding=\"post\")\n",
    "\n",
    "input_ids[0]"
   ]
  },
  {
   "cell_type": "code",
   "execution_count": null,
   "metadata": {
    "colab": {
     "base_uri": "https://localhost:8080/",
     "height": 54
    },
    "colab_type": "code",
    "executionInfo": {
     "elapsed": 6275,
     "status": "ok",
     "timestamp": 1600084165616,
     "user": {
      "displayName": "김신영",
      "photoUrl": "",
      "userId": "11478318935090756381"
     },
     "user_tz": -540
    },
    "id": "UStVfFcYRJW4",
    "outputId": "55f0e2a6-7cca-4d13-fc07-0ec8926890aa"
   },
   "outputs": [],
   "source": [
    "# 어텐션 마스크 초기화\n",
    "attention_masks = []\n",
    "\n",
    "# 어텐션 마스크를 패딩이 아니면 1, 패딩이면 0으로 설정\n",
    "# 패딩 부분은 BERT 모델에서 어텐션을 수행하지 않아 속도 향상\n",
    "for seq in input_ids:\n",
    "    seq_mask = [float(i>0) for i in seq]\n",
    "    attention_masks.append(seq_mask)\n",
    "\n",
    "print(attention_masks[0])"
   ]
  },
  {
   "cell_type": "code",
   "execution_count": null,
   "metadata": {
    "colab": {
     "base_uri": "https://localhost:8080/",
     "height": 1000
    },
    "colab_type": "code",
    "executionInfo": {
     "elapsed": 6731,
     "status": "ok",
     "timestamp": 1600084166082,
     "user": {
      "displayName": "김신영",
      "photoUrl": "",
      "userId": "11478318935090756381"
     },
     "user_tz": -540
    },
    "id": "RcSdxKQDRL_E",
    "outputId": "4df8311e-5567-47b5-b7e0-8a2c1ebed316"
   },
   "outputs": [],
   "source": [
    "# 훈련셋과 검증셋으로 분리\n",
    "train_inputs, validation_inputs, train_labels, validation_labels = train_test_split(input_ids,\n",
    "                                                                                    labels, \n",
    "                                                                                    random_state=41, \n",
    "                                                                                    test_size=0.1)\n",
    "\n",
    "# 어텐션 마스크를 훈련셋과 검증셋으로 분리\n",
    "train_masks, validation_masks, _, _ = train_test_split(attention_masks, \n",
    "                                                       input_ids,\n",
    "                                                       random_state=41, \n",
    "                                                       test_size=0.1)\n",
    "\n",
    "# 데이터를 파이토치의 텐서로 변환\n",
    "train_inputs = torch.tensor(train_inputs)\n",
    "train_labels = torch.tensor(train_labels)\n",
    "train_masks = torch.tensor(train_masks)\n",
    "validation_inputs = torch.tensor(validation_inputs)\n",
    "validation_labels = torch.tensor(validation_labels)\n",
    "validation_masks = torch.tensor(validation_masks)\t\t\t\t\n",
    "\n",
    "print(train_inputs[0])\n",
    "print(train_labels[0])\n",
    "print(train_masks[0])\n",
    "print(validation_inputs[0])\n",
    "print(validation_labels[0])\n",
    "print(validation_masks[0])"
   ]
  },
  {
   "cell_type": "code",
   "execution_count": null,
   "metadata": {
    "colab": {},
    "colab_type": "code",
    "executionInfo": {
     "elapsed": 6722,
     "status": "ok",
     "timestamp": 1600084166083,
     "user": {
      "displayName": "김신영",
      "photoUrl": "",
      "userId": "11478318935090756381"
     },
     "user_tz": -540
    },
    "id": "xSNEPA_qSNHC"
   },
   "outputs": [],
   "source": [
    "# 배치 사이즈\n",
    "batch_size = 32\n",
    "\n",
    "# 파이토치의 DataLoader로 입력, 마스크, 라벨을 묶어 데이터 설정\n",
    "# 학습시 배치 사이즈 만큼 데이터를 가져옴\n",
    "train_data = TensorDataset(train_inputs, train_masks, train_labels)\n",
    "train_sampler = RandomSampler(train_data)\n",
    "train_dataloader = DataLoader(train_data, sampler=train_sampler, batch_size=batch_size)\n",
    "\n",
    "validation_data = TensorDataset(validation_inputs, validation_masks, validation_labels)\n",
    "validation_sampler = SequentialSampler(validation_data)\n",
    "validation_dataloader = DataLoader(validation_data, sampler=validation_sampler, batch_size=batch_size)"
   ]
  },
  {
   "cell_type": "code",
   "execution_count": null,
   "metadata": {
    "colab": {
     "base_uri": "https://localhost:8080/",
     "height": 210
    },
    "colab_type": "code",
    "executionInfo": {
     "elapsed": 6716,
     "status": "ok",
     "timestamp": 1600084166084,
     "user": {
      "displayName": "김신영",
      "photoUrl": "",
      "userId": "11478318935090756381"
     },
     "user_tz": -540
    },
    "id": "VQPbCHh5SPM2",
    "outputId": "bdeb17b0-7bca-43a1-a9e8-c8104a284aa0"
   },
   "outputs": [],
   "source": [
    "# 리뷰 문장 추출\n",
    "sentences = test['document']\n",
    "sentences[:10]"
   ]
  },
  {
   "cell_type": "code",
   "execution_count": null,
   "metadata": {
    "colab": {
     "base_uri": "https://localhost:8080/",
     "height": 193
    },
    "colab_type": "code",
    "executionInfo": {
     "elapsed": 6707,
     "status": "ok",
     "timestamp": 1600084166085,
     "user": {
      "displayName": "김신영",
      "photoUrl": "",
      "userId": "11478318935090756381"
     },
     "user_tz": -540
    },
    "id": "wz_qQ8JxSQey",
    "outputId": "1b92f6ea-6063-4f7b-d238-2788ec3a58bc"
   },
   "outputs": [],
   "source": [
    "# BERT의 입력 형식에 맞게 변환\n",
    "sentences = [\"[CLS] \" + str(sentence) + \" [SEP]\" for sentence in sentences]\n",
    "sentences[:10]"
   ]
  },
  {
   "cell_type": "code",
   "execution_count": null,
   "metadata": {
    "colab": {
     "base_uri": "https://localhost:8080/",
     "height": 246
    },
    "colab_type": "code",
    "executionInfo": {
     "elapsed": 6695,
     "status": "ok",
     "timestamp": 1600084166085,
     "user": {
      "displayName": "김신영",
      "photoUrl": "",
      "userId": "11478318935090756381"
     },
     "user_tz": -540
    },
    "id": "8Gl0ur-zSRVj",
    "outputId": "a0b85fef-93b5-44e5-c319-66b589e1bf3b"
   },
   "outputs": [],
   "source": [
    "# 라벨 추출\n",
    "labels = test['label'].values\n",
    "labels"
   ]
  },
  {
   "cell_type": "code",
   "execution_count": null,
   "metadata": {
    "colab": {
     "base_uri": "https://localhost:8080/",
     "height": 52
    },
    "colab_type": "code",
    "executionInfo": {
     "elapsed": 7025,
     "status": "ok",
     "timestamp": 1600084166425,
     "user": {
      "displayName": "김신영",
      "photoUrl": "",
      "userId": "11478318935090756381"
     },
     "user_tz": -540
    },
    "id": "_st0uoGKSS28",
    "outputId": "10ed994d-1143-48e0-f8b5-3a5eb9c13c5d"
   },
   "outputs": [],
   "source": [
    "# BERT의 토크나이저로 문장을 토큰으로 분리\n",
    "tokenizer = BertTokenizer.from_pretrained('bert-base-multilingual-cased', do_lower_case=False)\n",
    "tokenized_texts = [tokenizer.tokenize(sent) for sent in sentences]\n",
    "\n",
    "print (sentences[0])\n",
    "print (tokenized_texts[0])"
   ]
  },
  {
   "cell_type": "code",
   "execution_count": null,
   "metadata": {
    "colab": {
     "base_uri": "https://localhost:8080/",
     "height": 298
    },
    "colab_type": "code",
    "executionInfo": {
     "elapsed": 7017,
     "status": "ok",
     "timestamp": 1600084166427,
     "user": {
      "displayName": "김신영",
      "photoUrl": "",
      "userId": "11478318935090756381"
     },
     "user_tz": -540
    },
    "id": "KGBtMoriSUOU",
    "outputId": "7b5b1b65-7343-434f-e940-f5826bf49430"
   },
   "outputs": [],
   "source": [
    "# 입력 토큰의 최대 시퀀스 길이\n",
    "MAX_LEN = 128\n",
    "\n",
    "# 토큰을 숫자 인덱스로 변환\n",
    "input_ids = [tokenizer.convert_tokens_to_ids(x) for x in tokenized_texts]\n",
    "\n",
    "# 문장을 MAX_LEN 길이에 맞게 자르고, 모자란 부분을 패딩 0으로 채움\n",
    "input_ids = pad_sequences(input_ids, maxlen=MAX_LEN, dtype=\"long\", truncating=\"post\", padding=\"post\")\n",
    "\n",
    "input_ids[0]"
   ]
  },
  {
   "cell_type": "code",
   "execution_count": null,
   "metadata": {
    "colab": {
     "base_uri": "https://localhost:8080/",
     "height": 54
    },
    "colab_type": "code",
    "executionInfo": {
     "elapsed": 7008,
     "status": "ok",
     "timestamp": 1600084166428,
     "user": {
      "displayName": "김신영",
      "photoUrl": "",
      "userId": "11478318935090756381"
     },
     "user_tz": -540
    },
    "id": "x8pDSI1rSVlO",
    "outputId": "31f79f0a-004e-4944-8ac9-848ff58a1abd"
   },
   "outputs": [],
   "source": [
    "# 어텐션 마스크 초기화\n",
    "attention_masks = []\n",
    "\n",
    "# 어텐션 마스크를 패딩이 아니면 1, 패딩이면 0으로 설정\n",
    "# 패딩 부분은 BERT 모델에서 어텐션을 수행하지 않아 속도 향상\n",
    "for seq in input_ids:\n",
    "    seq_mask = [float(i>0) for i in seq]\n",
    "    attention_masks.append(seq_mask)\n",
    "\n",
    "print(attention_masks[0])"
   ]
  },
  {
   "cell_type": "code",
   "execution_count": null,
   "metadata": {
    "colab": {
     "base_uri": "https://localhost:8080/",
     "height": 439
    },
    "colab_type": "code",
    "executionInfo": {
     "elapsed": 6998,
     "status": "ok",
     "timestamp": 1600084166429,
     "user": {
      "displayName": "김신영",
      "photoUrl": "",
      "userId": "11478318935090756381"
     },
     "user_tz": -540
    },
    "id": "bE7PFCCESWyq",
    "outputId": "ede92816-4412-4a2e-f9d0-00be38a77449"
   },
   "outputs": [],
   "source": [
    "# 데이터를 파이토치의 텐서로 변환\n",
    "test_inputs = torch.tensor(input_ids)\n",
    "test_labels = torch.tensor(labels)\n",
    "test_masks = torch.tensor(attention_masks)\n",
    "\n",
    "print(test_inputs[0])\n",
    "print(test_labels[0])\n",
    "print(test_masks[0])"
   ]
  },
  {
   "cell_type": "code",
   "execution_count": null,
   "metadata": {
    "colab": {},
    "colab_type": "code",
    "executionInfo": {
     "elapsed": 6990,
     "status": "ok",
     "timestamp": 1600084166431,
     "user": {
      "displayName": "김신영",
      "photoUrl": "",
      "userId": "11478318935090756381"
     },
     "user_tz": -540
    },
    "id": "HTgIqO2jSYoC"
   },
   "outputs": [],
   "source": [
    "# 배치 사이즈\n",
    "batch_size = 32\n",
    "\n",
    "# 파이토치의 DataLoader로 입력, 마스크, 라벨을 묶어 데이터 설정\n",
    "# 학습시 배치 사이즈 만큼 데이터를 가져옴\n",
    "test_data = TensorDataset(test_inputs, test_masks, test_labels)\n",
    "test_sampler = RandomSampler(test_data)\n",
    "test_dataloader = DataLoader(test_data, sampler=test_sampler, batch_size=batch_size)"
   ]
  },
  {
   "cell_type": "markdown",
   "metadata": {
    "colab_type": "text",
    "id": "Jk0l3-WeSar9"
   },
   "source": [
    "모델 생성"
   ]
  },
  {
   "cell_type": "code",
   "execution_count": null,
   "metadata": {
    "colab": {
     "base_uri": "https://localhost:8080/",
     "height": 34
    },
    "colab_type": "code",
    "executionInfo": {
     "elapsed": 7846,
     "status": "ok",
     "timestamp": 1600084167294,
     "user": {
      "displayName": "김신영",
      "photoUrl": "",
      "userId": "11478318935090756381"
     },
     "user_tz": -540
    },
    "id": "LUEkLs2sSbv4",
    "outputId": "31dc2407-bdd6-4c4d-ffda-6825f209513a"
   },
   "outputs": [],
   "source": [
    "# GPU 디바이스 이름 구함\n",
    "device_name = tf.test.gpu_device_name()\n",
    "\n",
    "# GPU 디바이스 이름 검사\n",
    "if device_name == '/device:GPU:0':\n",
    "    print('Found GPU at: {}'.format(device_name))\n",
    "else:\n",
    "    raise SystemError('GPU device not found')"
   ]
  },
  {
   "cell_type": "code",
   "execution_count": null,
   "metadata": {
    "colab": {
     "base_uri": "https://localhost:8080/",
     "height": 52
    },
    "colab_type": "code",
    "executionInfo": {
     "elapsed": 7839,
     "status": "ok",
     "timestamp": 1600084167296,
     "user": {
      "displayName": "김신영",
      "photoUrl": "",
      "userId": "11478318935090756381"
     },
     "user_tz": -540
    },
    "id": "5zt285RuSrqj",
    "outputId": "bb35a4ad-3d89-4c3d-c660-dd4a3fa2e260"
   },
   "outputs": [],
   "source": [
    "# 디바이스 설정\n",
    "if torch.cuda.is_available():    \n",
    "    device = torch.device(\"cuda\")\n",
    "    print('There are %d GPU(s) available.' % torch.cuda.device_count())\n",
    "    print('We will use the GPU:', torch.cuda.get_device_name(0))\n",
    "else:\n",
    "    device = torch.device(\"cpu\")\n",
    "    print('No GPU available, using the CPU instead.')"
   ]
  },
  {
   "cell_type": "code",
   "execution_count": null,
   "metadata": {
    "colab": {
     "base_uri": "https://localhost:8080/",
     "height": 1000
    },
    "colab_type": "code",
    "executionInfo": {
     "elapsed": 17753,
     "status": "ok",
     "timestamp": 1600084177220,
     "user": {
      "displayName": "김신영",
      "photoUrl": "",
      "userId": "11478318935090756381"
     },
     "user_tz": -540
    },
    "id": "isxDW-RvStNV",
    "outputId": "644cf4c3-bf30-4bba-ec68-523e6e2398d6"
   },
   "outputs": [],
   "source": [
    "# 분류를 위한 BERT 모델 생성\n",
    "model = BertForSequenceClassification.from_pretrained(\"bert-base-multilingual-cased\", num_labels=len(label_dict))\n",
    "model.cuda()"
   ]
  },
  {
   "cell_type": "code",
   "execution_count": null,
   "metadata": {
    "colab": {},
    "colab_type": "code",
    "executionInfo": {
     "elapsed": 17745,
     "status": "ok",
     "timestamp": 1600084177221,
     "user": {
      "displayName": "김신영",
      "photoUrl": "",
      "userId": "11478318935090756381"
     },
     "user_tz": -540
    },
    "id": "LKk1qy5zSwAF"
   },
   "outputs": [],
   "source": [
    "# 옵티마이저 설정\n",
    "optimizer = AdamW(model.parameters(),\n",
    "                  lr = 2e-5, # 학습률\n",
    "                  eps = 1e-8 # 0으로 나누는 것을 방지하기 위한 epsilon 값\n",
    "                )\n",
    "\n",
    "# 에폭수\n",
    "epochs = 4\n",
    "\n",
    "# 총 훈련 스텝 : 배치반복 횟수 * 에폭\n",
    "total_steps = len(train_dataloader) * epochs\n",
    "\n",
    "# 학습률을 조금씩 감소시키는 스케줄러 생성\n",
    "scheduler = get_linear_schedule_with_warmup(optimizer, \n",
    "                                            num_warmup_steps = 0,\n",
    "                                            num_training_steps = total_steps)"
   ]
  },
  {
   "cell_type": "markdown",
   "metadata": {
    "colab_type": "text",
    "id": "bXi3W-ALTc6r"
   },
   "source": [
    "모델 학습\n"
   ]
  },
  {
   "cell_type": "code",
   "execution_count": null,
   "metadata": {
    "colab": {},
    "colab_type": "code",
    "executionInfo": {
     "elapsed": 17738,
     "status": "ok",
     "timestamp": 1600084177221,
     "user": {
      "displayName": "김신영",
      "photoUrl": "",
      "userId": "11478318935090756381"
     },
     "user_tz": -540
    },
    "id": "W_Ar-hy4SyhD"
   },
   "outputs": [],
   "source": [
    "# 정확도 계산 함수\n",
    "def flat_accuracy(preds, labels):\n",
    "    \n",
    "    pred_flat = np.argmax(preds, axis=1).flatten()\n",
    "    labels_flat = labels.flatten()\n",
    "\n",
    "    return np.sum(pred_flat == labels_flat) / len(labels_flat)"
   ]
  },
  {
   "cell_type": "code",
   "execution_count": null,
   "metadata": {
    "colab": {},
    "colab_type": "code",
    "executionInfo": {
     "elapsed": 17733,
     "status": "ok",
     "timestamp": 1600084177222,
     "user": {
      "displayName": "김신영",
      "photoUrl": "",
      "userId": "11478318935090756381"
     },
     "user_tz": -540
    },
    "id": "RX9oDjIKS1wE"
   },
   "outputs": [],
   "source": [
    "# 시간 표시 함수\n",
    "def format_time(elapsed):\n",
    "\n",
    "    # 반올림\n",
    "    elapsed_rounded = int(round((elapsed)))\n",
    "    \n",
    "    # hh:mm:ss으로 형태 변경\n",
    "    return str(datetime.timedelta(seconds=elapsed_rounded))"
   ]
  },
  {
   "cell_type": "code",
   "execution_count": null,
   "metadata": {
    "colab": {
     "base_uri": "https://localhost:8080/",
     "height": 756
    },
    "colab_type": "code",
    "executionInfo": {
     "elapsed": 207550,
     "status": "ok",
     "timestamp": 1600084367045,
     "user": {
      "displayName": "김신영",
      "photoUrl": "",
      "userId": "11478318935090756381"
     },
     "user_tz": -540
    },
    "id": "8QGZdNf6S3NM",
    "outputId": "02ac18b4-93a2-4c6a-da34-1918cedb6407"
   },
   "outputs": [],
   "source": [
    "# 재현을 위해 랜덤시드 고정\n",
    "seed_val = 19\n",
    "random.seed(seed_val)\n",
    "np.random.seed(seed_val)\n",
    "torch.manual_seed(seed_val)\n",
    "torch.cuda.manual_seed_all(seed_val)\n",
    "\n",
    "# 그래디언트 초기화\n",
    "model.zero_grad()\n",
    "\n",
    "# 에폭만큼 반복\n",
    "for epoch_i in range(0, epochs):\n",
    "    \n",
    "    # ========================================\n",
    "    #               Training\n",
    "    # ========================================\n",
    "    \n",
    "    print(\"\")\n",
    "    print('======== Epoch {:} / {:} ========'.format(epoch_i + 1, epochs))\n",
    "    print('Training...')\n",
    "\n",
    "    # 시작 시간 설정\n",
    "    t0 = time.time()\n",
    "\n",
    "    # 로스 초기화\n",
    "    total_loss = 0\n",
    "\n",
    "    # 훈련모드로 변경\n",
    "    model.train()\n",
    "        \n",
    "    # 데이터로더에서 배치만큼 반복하여 가져옴\n",
    "    for step, batch in enumerate(train_dataloader):\n",
    "        # 경과 정보 표시\n",
    "        if step % 500 == 0 and not step == 0:\n",
    "            elapsed = format_time(time.time() - t0)\n",
    "            print('  Batch {:>5,}  of  {:>5,}.    Elapsed: {:}.'.format(step, len(train_dataloader), elapsed))\n",
    "\n",
    "        # 배치를 GPU에 넣음\n",
    "        batch = tuple(t.to(device) for t in batch)\n",
    "        \n",
    "        # 배치에서 데이터 추출\n",
    "        b_input_ids, b_input_mask, b_labels = batch\n",
    "\n",
    "        # Forward 수행                \n",
    "        outputs = model(b_input_ids, \n",
    "                        token_type_ids=None, \n",
    "                        attention_mask=b_input_mask, \n",
    "                        labels=b_labels)\n",
    "        \n",
    "        # 로스 구함\n",
    "        loss = outputs[0]\n",
    "\n",
    "        # 총 로스 계산\n",
    "        total_loss += loss.item()\n",
    "\n",
    "        # Backward 수행으로 그래디언트 계산\n",
    "        loss.backward()\n",
    "\n",
    "        # 그래디언트 클리핑\n",
    "        torch.nn.utils.clip_grad_norm_(model.parameters(), 1.0)\n",
    "\n",
    "        # 그래디언트를 통해 가중치 파라미터 업데이트\n",
    "        optimizer.step()\n",
    "\n",
    "        # 스케줄러로 학습률 감소\n",
    "        scheduler.step()\n",
    "\n",
    "        # 그래디언트 초기화\n",
    "        model.zero_grad()\n",
    "\n",
    "    # 평균 로스 계산\n",
    "    avg_train_loss = total_loss / len(train_dataloader)            \n",
    "\n",
    "    print(\"\")\n",
    "    print(\"  Average training loss: {0:.2f}\".format(avg_train_loss))\n",
    "    print(\"  Training epcoh took: {:}\".format(format_time(time.time() - t0)))\n",
    "        \n",
    "    # ========================================\n",
    "    #               Validation\n",
    "    # ========================================\n",
    "\n",
    "    print(\"\")\n",
    "    print(\"Running Validation...\")\n",
    "\n",
    "    #시작 시간 설정\n",
    "    t0 = time.time()\n",
    "\n",
    "    # 평가모드로 변경\n",
    "    model.eval()\n",
    "\n",
    "    # 변수 초기화\n",
    "    eval_loss, eval_accuracy = 0, 0\n",
    "    nb_eval_steps, nb_eval_examples = 0, 0\n",
    "\n",
    "    # 데이터로더에서 배치만큼 반복하여 가져옴\n",
    "    for batch in validation_dataloader:\n",
    "        # 배치를 GPU에 넣음\n",
    "        batch = tuple(t.to(device) for t in batch)\n",
    "        \n",
    "        # 배치에서 데이터 추출\n",
    "        b_input_ids, b_input_mask, b_labels = batch\n",
    "        \n",
    "        # 그래디언트 계산 안함\n",
    "        with torch.no_grad():     \n",
    "            # Forward 수행\n",
    "            outputs = model(b_input_ids, \n",
    "                            token_type_ids=None, \n",
    "                            attention_mask=b_input_mask)\n",
    "        \n",
    "        # 로스 구함\n",
    "        logits = outputs[0]\n",
    "\n",
    "        # CPU로 데이터 이동\n",
    "        logits = logits.detach().cpu().numpy()\n",
    "        label_ids = b_labels.to('cpu').numpy()\n",
    "        \n",
    "        # 출력 로짓과 라벨을 비교하여 정확도 계산\n",
    "        tmp_eval_accuracy = flat_accuracy(logits, label_ids)\n",
    "        eval_accuracy += tmp_eval_accuracy\n",
    "        nb_eval_steps += 1\n",
    "\n",
    "    print(\"  Accuracy: {0:.2f}\".format(eval_accuracy/nb_eval_steps))\n",
    "    print(\"  Validation took: {:}\".format(format_time(time.time() - t0)))\n",
    "\n",
    "print(\"\")\n",
    "print(\"Training complete!\")"
   ]
  },
  {
   "cell_type": "markdown",
   "metadata": {
    "colab_type": "text",
    "id": "84s_uS8JTHDK"
   },
   "source": [
    "테스트셋 평가"
   ]
  },
  {
   "cell_type": "code",
   "execution_count": null,
   "metadata": {
    "colab": {
     "base_uri": "https://localhost:8080/",
     "height": 70
    },
    "colab_type": "code",
    "executionInfo": {
     "elapsed": 209740,
     "status": "ok",
     "timestamp": 1600084369245,
     "user": {
      "displayName": "김신영",
      "photoUrl": "",
      "userId": "11478318935090756381"
     },
     "user_tz": -540
    },
    "id": "ptxqyY5iTD1e",
    "outputId": "73ede12f-8c6c-4eb8-b71c-6714320caff4"
   },
   "outputs": [],
   "source": [
    "#시작 시간 설정\n",
    "t0 = time.time()\n",
    "\n",
    "# 평가모드로 변경\n",
    "model.eval()\n",
    "\n",
    "# 변수 초기화\n",
    "eval_loss, eval_accuracy = 0, 0\n",
    "nb_eval_steps, nb_eval_examples = 0, 0\n",
    "\n",
    "# 데이터로더에서 배치만큼 반복하여 가져옴\n",
    "for step, batch in enumerate(test_dataloader):\n",
    "    # 경과 정보 표시\n",
    "    if step % 100 == 0 and not step == 0:\n",
    "        elapsed = format_time(time.time() - t0)\n",
    "        print('  Batch {:>5,}  of  {:>5,}.    Elapsed: {:}.'.format(step, len(test_dataloader), elapsed))\n",
    "\n",
    "    # 배치를 GPU에 넣음\n",
    "    batch = tuple(t.to(device) for t in batch)\n",
    "    \n",
    "    # 배치에서 데이터 추출\n",
    "    b_input_ids, b_input_mask, b_labels = batch\n",
    "    \n",
    "    # 그래디언트 계산 안함\n",
    "    with torch.no_grad():     \n",
    "        # Forward 수행\n",
    "        outputs = model(b_input_ids, \n",
    "                        token_type_ids=None, \n",
    "                        attention_mask=b_input_mask)\n",
    "    \n",
    "    # 로스 구함\n",
    "    logits = outputs[0]\n",
    "\n",
    "    # CPU로 데이터 이동\n",
    "    logits = logits.detach().cpu().numpy()\n",
    "    label_ids = b_labels.to('cpu').numpy()\n",
    "    \n",
    "    # 출력 로짓과 라벨을 비교하여 정확도 계산\n",
    "    tmp_eval_accuracy = flat_accuracy(logits, label_ids)\n",
    "    eval_accuracy += tmp_eval_accuracy\n",
    "    nb_eval_steps += 1\n",
    "\n",
    "print(\"\")\n",
    "print(\"Accuracy: {0:.2f}\".format(eval_accuracy/nb_eval_steps))\n",
    "print(\"Test took: {:}\".format(format_time(time.time() - t0)))"
   ]
  },
  {
   "cell_type": "markdown",
   "metadata": {
    "colab_type": "text",
    "id": "RzSkwqGnTLiG"
   },
   "source": [
    "새로운 문장 테스트¶"
   ]
  },
  {
   "cell_type": "code",
   "execution_count": null,
   "metadata": {
    "colab": {},
    "colab_type": "code",
    "executionInfo": {
     "elapsed": 209729,
     "status": "ok",
     "timestamp": 1600084369246,
     "user": {
      "displayName": "김신영",
      "photoUrl": "",
      "userId": "11478318935090756381"
     },
     "user_tz": -540
    },
    "id": "xOOD0xZRTEQI"
   },
   "outputs": [],
   "source": [
    "# 입력 데이터 변환\n",
    "def convert_input_data(sentences):\n",
    "\n",
    "    # BERT의 토크나이저로 문장을 토큰으로 분리\n",
    "    tokenized_texts = [tokenizer.tokenize(sent) for sent in sentences]\n",
    "\n",
    "    # 입력 토큰의 최대 시퀀스 길이\n",
    "    MAX_LEN = 256\n",
    "\n",
    "    # 토큰을 숫자 인덱스로 변환\n",
    "    input_ids = [tokenizer.convert_tokens_to_ids(x) for x in tokenized_texts]\n",
    "    \n",
    "    # 문장을 MAX_LEN 길이에 맞게 자르고, 모자란 부분을 패딩 0으로 채움\n",
    "    input_ids = pad_sequences(input_ids, maxlen=MAX_LEN, dtype=\"long\", truncating=\"post\", padding=\"post\")\n",
    "\n",
    "    # 어텐션 마스크 초기화\n",
    "    attention_masks = []\n",
    "\n",
    "    # 어텐션 마스크를 패딩이 아니면 1, 패딩이면 0으로 설정\n",
    "    # 패딩 부분은 BERT 모델에서 어텐션을 수행하지 않아 속도 향상\n",
    "    for seq in input_ids:\n",
    "        seq_mask = [float(i>0) for i in seq]\n",
    "        attention_masks.append(seq_mask)\n",
    "\n",
    "    # 데이터를 파이토치의 텐서로 변환\n",
    "    inputs = torch.tensor(input_ids)\n",
    "    masks = torch.tensor(attention_masks)\n",
    "\n",
    "    return inputs, masks"
   ]
  },
  {
   "cell_type": "code",
   "execution_count": null,
   "metadata": {
    "colab": {},
    "colab_type": "code",
    "executionInfo": {
     "elapsed": 209722,
     "status": "ok",
     "timestamp": 1600084369247,
     "user": {
      "displayName": "김신영",
      "photoUrl": "",
      "userId": "11478318935090756381"
     },
     "user_tz": -540
    },
    "id": "X0R53ru8TO-r"
   },
   "outputs": [],
   "source": [
    "# 문장 테스트\n",
    "def test_sentences(sentences):\n",
    "\n",
    "    # 평가모드로 변경\n",
    "    model.eval()\n",
    "\n",
    "    # 문장을 입력 데이터로 변환\n",
    "    inputs, masks = convert_input_data(sentences)\n",
    "\n",
    "    # 데이터를 GPU에 넣음\n",
    "    b_input_ids = inputs.to(device)\n",
    "    b_input_mask = masks.to(device)\n",
    "            \n",
    "    # 그래디언트 계산 안함\n",
    "    with torch.no_grad():     \n",
    "        # Forward 수행\n",
    "        outputs = model(b_input_ids, \n",
    "                        token_type_ids=None, \n",
    "                        attention_mask=b_input_mask)\n",
    "\n",
    "    # 로스 구함\n",
    "    logits = outputs[0]\n",
    "\n",
    "    # CPU로 데이터 이동\n",
    "    logits = logits.detach().cpu().numpy()\n",
    "\n",
    "    return logits"
   ]
  },
  {
   "cell_type": "code",
   "execution_count": null,
   "metadata": {
    "colab": {
     "base_uri": "https://localhost:8080/",
     "height": 34
    },
    "colab_type": "code",
    "executionInfo": {
     "elapsed": 209715,
     "status": "ok",
     "timestamp": 1600084369247,
     "user": {
      "displayName": "김신영",
      "photoUrl": "",
      "userId": "11478318935090756381"
     },
     "user_tz": -540
    },
    "id": "_hc0cPreri5R",
    "outputId": "421c33af-fc91-450b-d110-d2043d40f37a"
   },
   "outputs": [],
   "source": [
    "logits = test_sentences(['열심히 일하고 만족을 미루는 것이 내가 할 수 있는 전부다!'])\n",
    "\n",
    "husky=np.argmax(logits)\n",
    "print(possible_labels[husky])\n"
   ]
  },
  {
   "cell_type": "code",
   "execution_count": null,
   "metadata": {
    "colab": {
     "base_uri": "https://localhost:8080/",
     "height": 34
    },
    "colab_type": "code",
    "executionInfo": {
     "elapsed": 209706,
     "status": "ok",
     "timestamp": 1600084369248,
     "user": {
      "displayName": "김신영",
      "photoUrl": "",
      "userId": "11478318935090756381"
     },
     "user_tz": -540
    },
    "id": "6OUXfR68cAGF",
    "outputId": "faed957d-3be7-4666-ba60-7038f854f1ad"
   },
   "outputs": [],
   "source": [
    "logits = test_sentences(['시작은 미약해도 그 끝은 창대할 수 있다.'])\n",
    "\n",
    "husky=np.argmax(logits)\n",
    "print(possible_labels[husky])"
   ]
  },
  {
   "cell_type": "code",
   "execution_count": null,
   "metadata": {
    "colab": {
     "base_uri": "https://localhost:8080/",
     "height": 34
    },
    "colab_type": "code",
    "executionInfo": {
     "elapsed": 209697,
     "status": "ok",
     "timestamp": 1600084369249,
     "user": {
      "displayName": "김신영",
      "photoUrl": "",
      "userId": "11478318935090756381"
     },
     "user_tz": -540
    },
    "id": "VpyWLqjXTRfc",
    "outputId": "1bc5b25a-6635-462e-cedc-8c0ffaba4366"
   },
   "outputs": [],
   "source": [
    "\n",
    "logits = test_sentences(['우리 팀의 팀훈(?) ❗️워라밸❗️을 위해 체계적으로 진행하려고 스크럼도 하고 그랬는데, 워라밸을 떠나서 매끄럽게 진행되고있다. 매우 행복하고 만족스럽다!\\(//∇//)\\\n",
    "SNS(페이스북, 인스타그램 등) 데이터 가져오는 것이 매우 걱정했는데 성공했다. 이게 행복이지. 이맛에 코딩하는건가?(°▽°)❗️ 짜릿해 오늘 팀플의 기분은 행복함, 그리고 평화로움이다.'])\n",
    "husky=np.argmax(logits)\n",
    "print(possible_labels[husky])"
   ]
  },
  {
   "cell_type": "code",
   "execution_count": null,
   "metadata": {
    "colab": {
     "base_uri": "https://localhost:8080/",
     "height": 34
    },
    "colab_type": "code",
    "executionInfo": {
     "elapsed": 209688,
     "status": "ok",
     "timestamp": 1600084369250,
     "user": {
      "displayName": "김신영",
      "photoUrl": "",
      "userId": "11478318935090756381"
     },
     "user_tz": -540
    },
    "id": "0A5zCULZ2GcP",
    "outputId": "a844978b-aa32-4246-d542-ea27c5ec06ad"
   },
   "outputs": [],
   "source": [
    "logits = test_sentences(['갓난 아이 때 보육원에 와서 여섯 살 때 그 집으로 입양됐어요. 좋은 집에서 잘 먹고 편하게 살았지만 또 마냥 행복한 것만은 아니었어요. 그 때 홍콩엔 친엄마를 만나러 갔던 거예요. 죽기 전에 널 보고 싶다.. 전화가 왔었거든.. 날 만나고 그날 밤에 엄마는 돌아가셨어요. 끔찍했죠.. 엄마는 형편이 나아지는 대로 날 다시 데려가겠다 했는데 돈 많은 교수부부 집에 간 걸 알고 마음을 접으셨대요.대신 우유배달부로, 요구르트 아줌마로 늘 내 곁을 맴돌면서 사셨다고..비 오는 날 학교에서 우산을 건네줬던 요구르트 아줌마가 있었는데.. 엄마였대요.그 때 한번 손이라도 잡아볼 껄..'])\n",
    "husky=np.argmax(logits)\n",
    "print(possible_labels[husky])\n",
    "\n",
    "# sadness를 예상했으나 joy가.."
   ]
  },
  {
   "cell_type": "code",
   "execution_count": null,
   "metadata": {
    "colab": {
     "base_uri": "https://localhost:8080/",
     "height": 34
    },
    "colab_type": "code",
    "executionInfo": {
     "elapsed": 209679,
     "status": "ok",
     "timestamp": 1600084369250,
     "user": {
      "displayName": "김신영",
      "photoUrl": "",
      "userId": "11478318935090756381"
     },
     "user_tz": -540
    },
    "id": "lVO4OlrgZEWX",
    "outputId": "64887511-e0e4-4be7-a109-e07fb8427679"
   },
   "outputs": [],
   "source": [
    "logits = test_sentences(['난 당신하구 결혼하면서 내 인생을 송두리째 포기한거야! 거기다 대고 뭘 양보했냐고?'])\n",
    "husky=np.argmax(logits)\n",
    "print(possible_labels[husky])\n",
    "\n",
    "# 오.. 잘나왔다"
   ]
  },
  {
   "cell_type": "code",
   "execution_count": null,
   "metadata": {
    "colab": {
     "base_uri": "https://localhost:8080/",
     "height": 34
    },
    "colab_type": "code",
    "executionInfo": {
     "elapsed": 209670,
     "status": "ok",
     "timestamp": 1600084369251,
     "user": {
      "displayName": "김신영",
      "photoUrl": "",
      "userId": "11478318935090756381"
     },
     "user_tz": -540
    },
    "id": "WEQKZDTCZE3n",
    "outputId": "3f612f30-746d-4f78-dcb3-0dc4c1961a8a"
   },
   "outputs": [],
   "source": [
    "logits = test_sentences(['아버지가가방에들어가신다'])\n",
    "husky=np.argmax(logits)\n",
    "print(possible_labels[husky])"
   ]
  },
  {
   "cell_type": "code",
   "execution_count": null,
   "metadata": {
    "colab": {
     "base_uri": "https://localhost:8080/",
     "height": 34
    },
    "colab_type": "code",
    "executionInfo": {
     "elapsed": 209661,
     "status": "ok",
     "timestamp": 1600084369252,
     "user": {
      "displayName": "김신영",
      "photoUrl": "",
      "userId": "11478318935090756381"
     },
     "user_tz": -540
    },
    "id": "cTx_drh4ZFrq",
    "outputId": "1351b58f-7844-4098-b350-e5480a639b64"
   },
   "outputs": [],
   "source": [
    "logits = test_sentences(['철수는 울면서 떠나는 영희를 배웅했다.'])\n",
    "husky=np.argmax(logits)\n",
    "print(possible_labels[husky])\n",
    "\n",
    "# ..."
   ]
  },
  {
   "cell_type": "code",
   "execution_count": null,
   "metadata": {
    "colab": {
     "base_uri": "https://localhost:8080/",
     "height": 34
    },
    "colab_type": "code",
    "executionInfo": {
     "elapsed": 209653,
     "status": "ok",
     "timestamp": 1600084369253,
     "user": {
      "displayName": "김신영",
      "photoUrl": "",
      "userId": "11478318935090756381"
     },
     "user_tz": -540
    },
    "id": "bNEa4ypRZG3R",
    "outputId": "90981698-2fc2-4595-d7c7-f5045e89fd73"
   },
   "outputs": [],
   "source": [
    "logits = test_sentences(['하기야, 육지에서는 나를 몰라보는 이가 없소이다마는, 용궁에까지 소문이 났다 하니 조금은 놀랍소.'])\n",
    "husky=np.argmax(logits)\n",
    "print(possible_labels[husky])"
   ]
  }
 ],
 "metadata": {
  "accelerator": "GPU",
  "colab": {
   "authorship_tag": "ABX9TyMO2+HtmzrEvXIeP7Q3andz",
   "collapsed_sections": [],
   "name": "Berk_emotion_classification.ipynb",
   "provenance": []
  },
  "kernelspec": {
   "display_name": "Python 3",
   "language": "python",
   "name": "python3"
  },
  "language_info": {
   "codemirror_mode": {
    "name": "ipython",
    "version": 3
   },
   "file_extension": ".py",
   "mimetype": "text/x-python",
   "name": "python",
   "nbconvert_exporter": "python",
   "pygments_lexer": "ipython3",
   "version": "3.7.6"
  }
 },
 "nbformat": 4,
 "nbformat_minor": 1
}
